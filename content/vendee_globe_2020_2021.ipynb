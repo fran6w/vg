{
 "cells": [
  {
   "cell_type": "markdown",
   "id": "bacc9bf8-8c1d-482e-9c55-7649e5db4bf1",
   "metadata": {},
   "source": [
    "# Vendée Globe 2020-2021\n",
    "\n",
    "\n",
    "1. Vitesse moyenne des voiliers\n",
    "2. Impact du foil sur le classement et la vitesse utile\n",
    "3. Cartes de la course\n",
    "4. Impact du foil sur différents paramètres\n",
    "5. Impact des facteurs sur le classement\n",
    "\n",
    "\n",
    "&copy; 2024 Francis Wolinski"
   ]
  },
  {
   "cell_type": "code",
   "execution_count": 1,
   "id": "4f6ae76b-eee2-489f-86a5-fbb6a553fad0",
   "metadata": {},
   "outputs": [],
   "source": [
    "import pandas as pd\n",
    "df = (pd\n",
    "      .read_csv(\"vg_2020.zip\")\n",
    "      .assign(date=lambda df_: pd.to_datetime(df_.date))\n",
    "     )"
   ]
  },
  {
   "cell_type": "markdown",
   "id": "fd15baa6-0ddf-4263-8fde-2b0745406176",
   "metadata": {},
   "source": [
    "## 1. Vitesse moyenne des voiliers\n",
    "\n",
    "On calcule la vitesse moyenne de l'ensemble des voiliers par degré de longitude et de latitude."
   ]
  },
  {
   "cell_type": "code",
   "execution_count": 2,
   "id": "c09148d7-2d5d-4e98-a071-c96a27ac43af",
   "metadata": {},
   "outputs": [],
   "source": [
    "# Display the average speed by degrees of latitude and longitude\n",
    "def show_speed(df):\n",
    "    \"\"\"Display the average speed by degrees of latitude and longitude\"\"\"\n",
    "\n",
    "    # Display of positions\n",
    "    def longlat2id(long, lat):\n",
    "        we = 'W' if long < 0 else 'E'\n",
    "        sn = 'S' if lat < 0 else 'N'\n",
    "        return f\"{abs(lat)}° {sn}, {abs(long)}° {we}\"\n",
    "\n",
    "    # Build a geojson data structure adapted to the current race for choropleth graph\n",
    "    def make_feature(long, lat):\n",
    "        d = dict(type=\"Feature\",\n",
    "                 properties=dict(position=longlat2id(long, lat)),\n",
    "                 geometry=dict(type=\"Polygon\", coordinates=[[[long,lat],[long+1,lat],[long+1,lat+1],[long,lat+1],[long,lat]]]))\n",
    "        return d\n",
    "\n",
    "    # Compute the average speed by degrees of latitude and longitude\n",
    "    tab = df[['latitude', 'longitude', 'vitesse_last']].copy()\n",
    "    tab[['latitude', 'longitude']] = np.floor(tab[['latitude', 'longitude']]).astype(int)\n",
    "\n",
    "    pivot = (tab\n",
    "             .pivot_table(index='latitude',\n",
    "                          columns='longitude',\n",
    "                          values='vitesse_last')\n",
    "            )\n",
    "\n",
    "    tab = pivot.stack().dropna().round(1).reset_index().rename(columns={0:\"vitesse\"})\n",
    "    tab[\"position\"] = tab[\"longitude\"].combine(tab[\"latitude\"], longlat2id)\n",
    "\n",
    "    longs_lats = tab[[\"longitude\", \"latitude\"]].drop_duplicates().values\n",
    "\n",
    "    geojson = dict(type=\"FeatureCollection\",\n",
    "                 features=[make_feature(long, lat) for long, lat in longs_lats])\n",
    "\n",
    "    fig = px.choropleth_mapbox(data_frame=tab,\n",
    "                                    geojson=geojson,\n",
    "                                    locations='position',\n",
    "                                    color=\"vitesse\",\n",
    "                                    featureidkey='properties.position',\n",
    "                                    color_continuous_scale=\"Bluered\",\n",
    "                                    mapbox_style=\"carto-positron\",\n",
    "                                    height=600,\n",
    "                                    width=800,\n",
    "                                    center={'lat':tab[\"latitude\"].mean(), 'lon':tab[\"longitude\"].mean()},\n",
    "                                    zoom=0.7)\n",
    "    fig.update_traces(marker_line_width=0)\n",
    "    fig.update_layout(title=dict(text=\"Vitesse moyenne des voiliers\"))\n",
    "    return fig\n",
    "\n",
    "show_speed(df)"
   ]
  },
  {
   "cell_type": "markdown",
   "id": "0fa3f5cf-a0c4-489b-a1a6-7ac940bdc868",
   "metadata": {},
   "source": [
    "## 3. Cartes de la course\n",
    "\n",
    "On affiche 3 cartes de la course pour les 11 premiers, les 11 suivants et ainsi de suite."
   ]
  },
  {
   "cell_type": "code",
   "execution_count": 4,
   "id": "9a7ee9c5-a1a9-4918-ab00-741d7501922b",
   "metadata": {},
   "outputs": [],
   "source": [
    "#vg.show_globe(df, 0, 11)"
   ]
  },
  {
   "cell_type": "code",
   "execution_count": 5,
   "id": "658107f0-3ca6-4b47-88be-51bef3f8f6be",
   "metadata": {},
   "outputs": [],
   "source": [
    "#vg.show_globe(df, 11, 22)"
   ]
  },
  {
   "cell_type": "code",
   "execution_count": 6,
   "id": "0ee1ede7-328d-4c99-b76d-50f279dcb43c",
   "metadata": {},
   "outputs": [],
   "source": [
    "#vg.show_globe(df, 22, 33)"
   ]
  },
  {
   "cell_type": "markdown",
   "id": "e1afb5e5-4bf4-474c-8fac-3905695ff063",
   "metadata": {},
   "source": [
    "## 4. Impact du foil sur différents paramètres\n",
    "\n",
    "On calcule l'impact du foil sur différents paramètres et présenté soit dans le temps soit selon la distance à l'arrivée."
   ]
  },
  {
   "cell_type": "code",
   "execution_count": 7,
   "id": "808281a9-e925-460d-b232-98df6c8667c6",
   "metadata": {},
   "outputs": [],
   "source": [
    "#vg.interact(df)"
   ]
  },
  {
   "cell_type": "markdown",
   "id": "e75c8e90-b72d-463b-bd89-e6b331f4166a",
   "metadata": {},
   "source": [
    "## 5. Impact des facteurs sur le classement\n",
    "\n",
    "Pour les facteurs numériques, on calcule par la méthode de SHAP l'impact de leur grandeur sur le classement :\n",
    "<ul>\n",
    "    <li>Des facteurs comme les voiliers légers (facteur *Déplacement (poids)* en bleu), les voiliers plus larges (facteur *Largeur* en rouge), ou la présence d'un foil (facteur *foil* en rouge) ont une influence positive sur le classement.</li>\n",
    "    <li>Inversement, les voiliers plus lourds (facteur *Déplacement (poids)* en rouge), les voiliers plus étroits (facteur *Largeur* en bleu) ou l'absence de foil (facteur *foil* en bleu) ont une influence négative sur le classement.</li>\n",
    "</ul>\n",
    "        \n",
    "*Nota bene* : pour le calcul de l'impact, on a utilisé l'opposé du rang pour obtenir un graphique dans lequel les effets positifs sont à droite et les effets négatifs à gauche."
   ]
  },
  {
   "cell_type": "code",
   "execution_count": 8,
   "id": "5ac06169-78b2-4f0a-b93d-8438f86423e1",
   "metadata": {},
   "outputs": [],
   "source": [
    "#vg.show_shap_values(df)"
   ]
  }
 ],
 "metadata": {
  "kernelspec": {
   "display_name": "Python 3 (ipykernel)",
   "language": "python",
   "name": "python3"
  },
  "language_info": {
   "codemirror_mode": {
    "name": "ipython",
    "version": 3
   },
   "file_extension": ".py",
   "mimetype": "text/x-python",
   "name": "python",
   "nbconvert_exporter": "python",
   "pygments_lexer": "ipython3",
   "version": "3.11.9"
  }
 },
 "nbformat": 4,
 "nbformat_minor": 5
}
